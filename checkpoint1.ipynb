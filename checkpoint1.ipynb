{
  "cells": [
    {
      "cell_type": "markdown",
      "metadata": {
        "id": "4y9TssJiSHDo"
      },
      "source": [
        "# Checkpoint 1"
      ]
    },
    {
      "cell_type": "markdown",
      "metadata": {
        "id": "LcWuRbn6SHDq"
      },
      "source": [
        "Reminder:\n",
        "\n",
        "- You are being evaluated for compeletion and effort in this checkpoint.\n",
        "- Avoid manual labor / hard coding as much as possible, everything we've taught you so far are meant to simplify and automate your process."
      ]
    },
    {
      "cell_type": "markdown",
      "metadata": {
        "id": "uZdZFh2tSHDr"
      },
      "source": [
        "We will be working with the same `states_edu.csv` that you should already be familiar with from the tutorial.\n",
        "\n",
        "We investigated Grade 8 reading score in the tutorial. For this checkpoint, you are asked to investigate another test. Here's an overview:\n",
        "\n",
        "* Choose a specific response variable to focus on\n",
        ">Grade 4 Math, Grade 4 Reading, Grade 8 Math\n",
        "* Pick or create features to use\n",
        ">Will all the features be useful in predicting test score? Are some more important than others? Should you standardize, bin, or scale the data?\n",
        "* Explore the data as it relates to that test\n",
        ">Create at least 2 visualizations (graphs), each with a caption describing the graph and what it tells us about the data\n",
        "* Create training and testing data\n",
        ">Do you want to train on all the data? Only data from the last 10 years? Only Michigan data?\n",
        "* Train a ML model to predict outcome\n",
        ">Define what you want to predict, and pick a model in sklearn to use (see sklearn <a href=\"https://scikit-learn.org/stable/modules/linear_model.html\">regressors</a>.\n",
        "* Summarize your findings\n",
        ">Write a 1 paragraph summary of what you did and make a recommendation about if and how student performance can be predicted\n",
        "\n",
        "Include comments throughout your code! Every cleanup and preprocessing task should be documented.\n",
        "\n",
        "Of course, if you're finding this assignment interesting (and we really hope you do!), you are welcome to do more than the requirements! For example, you may want to see if expenditure affects 4th graders more than 8th graders. Maybe you want to look into the extended version of this dataset and see how factors like sex and race are involved. You can include all your work in this notebook when you turn it in -- just always make sure you explain what you did and interpret your results. Good luck!"
      ]
    },
    {
      "cell_type": "markdown",
      "metadata": {
        "id": "4Jmy4JTISHDs"
      },
      "source": [
        "<h2> Data Cleanup </h2>\n",
        "\n",
        "Import `numpy`, `pandas`, and `matplotlib`.\n",
        "\n",
        "(Feel free to import other libraries!)"
      ]
    },
    {
      "cell_type": "code",
      "execution_count": 1,
      "metadata": {
        "id": "S40X_L5xSHDs"
      },
      "outputs": [],
      "source": [
        "import pandas as pd\n",
        "import numpy as np\n",
        "import matplotlib.pyplot as plt"
      ]
    },
    {
      "cell_type": "markdown",
      "metadata": {
        "id": "6GJd3G6cSHDt"
      },
      "source": [
        "Load in the \"states_edu.csv\" dataset and take a look at the head of the data"
      ]
    },
    {
      "cell_type": "code",
      "execution_count": 19,
      "metadata": {
        "colab": {
          "base_uri": "https://localhost:8080/",
          "height": 253
        },
        "id": "Qe6r8I91SHDt",
        "outputId": "07b8a926-451c-4367-f064-58c74c5d3212"
      },
      "outputs": [
        {
          "output_type": "execute_result",
          "data": {
            "text/plain": [
              "       PRIMARY_KEY       STATE  YEAR  ENROLL  TOTAL_REVENUE  FEDERAL_REVENUE  \\\n",
              "0     1992_ALABAMA     ALABAMA  1992     NaN      2678885.0         304177.0   \n",
              "1      1992_ALASKA      ALASKA  1992     NaN      1049591.0         106780.0   \n",
              "2     1992_ARIZONA     ARIZONA  1992     NaN      3258079.0         297888.0   \n",
              "3    1992_ARKANSAS    ARKANSAS  1992     NaN      1711959.0         178571.0   \n",
              "4  1992_CALIFORNIA  CALIFORNIA  1992     NaN     26260025.0        2072470.0   \n",
              "\n",
              "   STATE_REVENUE  LOCAL_REVENUE  TOTAL_EXPENDITURE  INSTRUCTION_EXPENDITURE  \\\n",
              "0      1659028.0       715680.0          2653798.0                1481703.0   \n",
              "1       720711.0       222100.0           972488.0                 498362.0   \n",
              "2      1369815.0      1590376.0          3401580.0                1435908.0   \n",
              "3       958785.0       574603.0          1743022.0                 964323.0   \n",
              "4     16546514.0      7641041.0         27138832.0               14358922.0   \n",
              "\n",
              "   ...  GRADES_4_G  GRADES_8_G  GRADES_12_G  GRADES_1_8_G  GRADES_9_12_G  \\\n",
              "0  ...     57948.0     58025.0      41167.0           NaN            NaN   \n",
              "1  ...      9748.0      8789.0       6714.0           NaN            NaN   \n",
              "2  ...     55433.0     49081.0      37410.0           NaN            NaN   \n",
              "3  ...     34632.0     36011.0      27651.0           NaN            NaN   \n",
              "4  ...    418418.0    363296.0     270675.0           NaN            NaN   \n",
              "\n",
              "   GRADES_ALL_G  AVG_MATH_4_SCORE  AVG_MATH_8_SCORE  AVG_READING_4_SCORE  \\\n",
              "0      731634.0             208.0             252.0                207.0   \n",
              "1      122487.0               NaN               NaN                  NaN   \n",
              "2      673477.0             215.0             265.0                209.0   \n",
              "3      441490.0             210.0             256.0                211.0   \n",
              "4     5254844.0             208.0             261.0                202.0   \n",
              "\n",
              "   AVG_READING_8_SCORE  \n",
              "0                  NaN  \n",
              "1                  NaN  \n",
              "2                  NaN  \n",
              "3                  NaN  \n",
              "4                  NaN  \n",
              "\n",
              "[5 rows x 25 columns]"
            ],
            "text/html": [
              "\n",
              "  <div id=\"df-792221db-ff9a-46a6-8665-30b663c2d72a\" class=\"colab-df-container\">\n",
              "    <div>\n",
              "<style scoped>\n",
              "    .dataframe tbody tr th:only-of-type {\n",
              "        vertical-align: middle;\n",
              "    }\n",
              "\n",
              "    .dataframe tbody tr th {\n",
              "        vertical-align: top;\n",
              "    }\n",
              "\n",
              "    .dataframe thead th {\n",
              "        text-align: right;\n",
              "    }\n",
              "</style>\n",
              "<table border=\"1\" class=\"dataframe\">\n",
              "  <thead>\n",
              "    <tr style=\"text-align: right;\">\n",
              "      <th></th>\n",
              "      <th>PRIMARY_KEY</th>\n",
              "      <th>STATE</th>\n",
              "      <th>YEAR</th>\n",
              "      <th>ENROLL</th>\n",
              "      <th>TOTAL_REVENUE</th>\n",
              "      <th>FEDERAL_REVENUE</th>\n",
              "      <th>STATE_REVENUE</th>\n",
              "      <th>LOCAL_REVENUE</th>\n",
              "      <th>TOTAL_EXPENDITURE</th>\n",
              "      <th>INSTRUCTION_EXPENDITURE</th>\n",
              "      <th>...</th>\n",
              "      <th>GRADES_4_G</th>\n",
              "      <th>GRADES_8_G</th>\n",
              "      <th>GRADES_12_G</th>\n",
              "      <th>GRADES_1_8_G</th>\n",
              "      <th>GRADES_9_12_G</th>\n",
              "      <th>GRADES_ALL_G</th>\n",
              "      <th>AVG_MATH_4_SCORE</th>\n",
              "      <th>AVG_MATH_8_SCORE</th>\n",
              "      <th>AVG_READING_4_SCORE</th>\n",
              "      <th>AVG_READING_8_SCORE</th>\n",
              "    </tr>\n",
              "  </thead>\n",
              "  <tbody>\n",
              "    <tr>\n",
              "      <th>0</th>\n",
              "      <td>1992_ALABAMA</td>\n",
              "      <td>ALABAMA</td>\n",
              "      <td>1992</td>\n",
              "      <td>NaN</td>\n",
              "      <td>2678885.0</td>\n",
              "      <td>304177.0</td>\n",
              "      <td>1659028.0</td>\n",
              "      <td>715680.0</td>\n",
              "      <td>2653798.0</td>\n",
              "      <td>1481703.0</td>\n",
              "      <td>...</td>\n",
              "      <td>57948.0</td>\n",
              "      <td>58025.0</td>\n",
              "      <td>41167.0</td>\n",
              "      <td>NaN</td>\n",
              "      <td>NaN</td>\n",
              "      <td>731634.0</td>\n",
              "      <td>208.0</td>\n",
              "      <td>252.0</td>\n",
              "      <td>207.0</td>\n",
              "      <td>NaN</td>\n",
              "    </tr>\n",
              "    <tr>\n",
              "      <th>1</th>\n",
              "      <td>1992_ALASKA</td>\n",
              "      <td>ALASKA</td>\n",
              "      <td>1992</td>\n",
              "      <td>NaN</td>\n",
              "      <td>1049591.0</td>\n",
              "      <td>106780.0</td>\n",
              "      <td>720711.0</td>\n",
              "      <td>222100.0</td>\n",
              "      <td>972488.0</td>\n",
              "      <td>498362.0</td>\n",
              "      <td>...</td>\n",
              "      <td>9748.0</td>\n",
              "      <td>8789.0</td>\n",
              "      <td>6714.0</td>\n",
              "      <td>NaN</td>\n",
              "      <td>NaN</td>\n",
              "      <td>122487.0</td>\n",
              "      <td>NaN</td>\n",
              "      <td>NaN</td>\n",
              "      <td>NaN</td>\n",
              "      <td>NaN</td>\n",
              "    </tr>\n",
              "    <tr>\n",
              "      <th>2</th>\n",
              "      <td>1992_ARIZONA</td>\n",
              "      <td>ARIZONA</td>\n",
              "      <td>1992</td>\n",
              "      <td>NaN</td>\n",
              "      <td>3258079.0</td>\n",
              "      <td>297888.0</td>\n",
              "      <td>1369815.0</td>\n",
              "      <td>1590376.0</td>\n",
              "      <td>3401580.0</td>\n",
              "      <td>1435908.0</td>\n",
              "      <td>...</td>\n",
              "      <td>55433.0</td>\n",
              "      <td>49081.0</td>\n",
              "      <td>37410.0</td>\n",
              "      <td>NaN</td>\n",
              "      <td>NaN</td>\n",
              "      <td>673477.0</td>\n",
              "      <td>215.0</td>\n",
              "      <td>265.0</td>\n",
              "      <td>209.0</td>\n",
              "      <td>NaN</td>\n",
              "    </tr>\n",
              "    <tr>\n",
              "      <th>3</th>\n",
              "      <td>1992_ARKANSAS</td>\n",
              "      <td>ARKANSAS</td>\n",
              "      <td>1992</td>\n",
              "      <td>NaN</td>\n",
              "      <td>1711959.0</td>\n",
              "      <td>178571.0</td>\n",
              "      <td>958785.0</td>\n",
              "      <td>574603.0</td>\n",
              "      <td>1743022.0</td>\n",
              "      <td>964323.0</td>\n",
              "      <td>...</td>\n",
              "      <td>34632.0</td>\n",
              "      <td>36011.0</td>\n",
              "      <td>27651.0</td>\n",
              "      <td>NaN</td>\n",
              "      <td>NaN</td>\n",
              "      <td>441490.0</td>\n",
              "      <td>210.0</td>\n",
              "      <td>256.0</td>\n",
              "      <td>211.0</td>\n",
              "      <td>NaN</td>\n",
              "    </tr>\n",
              "    <tr>\n",
              "      <th>4</th>\n",
              "      <td>1992_CALIFORNIA</td>\n",
              "      <td>CALIFORNIA</td>\n",
              "      <td>1992</td>\n",
              "      <td>NaN</td>\n",
              "      <td>26260025.0</td>\n",
              "      <td>2072470.0</td>\n",
              "      <td>16546514.0</td>\n",
              "      <td>7641041.0</td>\n",
              "      <td>27138832.0</td>\n",
              "      <td>14358922.0</td>\n",
              "      <td>...</td>\n",
              "      <td>418418.0</td>\n",
              "      <td>363296.0</td>\n",
              "      <td>270675.0</td>\n",
              "      <td>NaN</td>\n",
              "      <td>NaN</td>\n",
              "      <td>5254844.0</td>\n",
              "      <td>208.0</td>\n",
              "      <td>261.0</td>\n",
              "      <td>202.0</td>\n",
              "      <td>NaN</td>\n",
              "    </tr>\n",
              "  </tbody>\n",
              "</table>\n",
              "<p>5 rows × 25 columns</p>\n",
              "</div>\n",
              "    <div class=\"colab-df-buttons\">\n",
              "\n",
              "  <div class=\"colab-df-container\">\n",
              "    <button class=\"colab-df-convert\" onclick=\"convertToInteractive('df-792221db-ff9a-46a6-8665-30b663c2d72a')\"\n",
              "            title=\"Convert this dataframe to an interactive table.\"\n",
              "            style=\"display:none;\">\n",
              "\n",
              "  <svg xmlns=\"http://www.w3.org/2000/svg\" height=\"24px\" viewBox=\"0 -960 960 960\">\n",
              "    <path d=\"M120-120v-720h720v720H120Zm60-500h600v-160H180v160Zm220 220h160v-160H400v160Zm0 220h160v-160H400v160ZM180-400h160v-160H180v160Zm440 0h160v-160H620v160ZM180-180h160v-160H180v160Zm440 0h160v-160H620v160Z\"/>\n",
              "  </svg>\n",
              "    </button>\n",
              "\n",
              "  <style>\n",
              "    .colab-df-container {\n",
              "      display:flex;\n",
              "      gap: 12px;\n",
              "    }\n",
              "\n",
              "    .colab-df-convert {\n",
              "      background-color: #E8F0FE;\n",
              "      border: none;\n",
              "      border-radius: 50%;\n",
              "      cursor: pointer;\n",
              "      display: none;\n",
              "      fill: #1967D2;\n",
              "      height: 32px;\n",
              "      padding: 0 0 0 0;\n",
              "      width: 32px;\n",
              "    }\n",
              "\n",
              "    .colab-df-convert:hover {\n",
              "      background-color: #E2EBFA;\n",
              "      box-shadow: 0px 1px 2px rgba(60, 64, 67, 0.3), 0px 1px 3px 1px rgba(60, 64, 67, 0.15);\n",
              "      fill: #174EA6;\n",
              "    }\n",
              "\n",
              "    .colab-df-buttons div {\n",
              "      margin-bottom: 4px;\n",
              "    }\n",
              "\n",
              "    [theme=dark] .colab-df-convert {\n",
              "      background-color: #3B4455;\n",
              "      fill: #D2E3FC;\n",
              "    }\n",
              "\n",
              "    [theme=dark] .colab-df-convert:hover {\n",
              "      background-color: #434B5C;\n",
              "      box-shadow: 0px 1px 3px 1px rgba(0, 0, 0, 0.15);\n",
              "      filter: drop-shadow(0px 1px 2px rgba(0, 0, 0, 0.3));\n",
              "      fill: #FFFFFF;\n",
              "    }\n",
              "  </style>\n",
              "\n",
              "    <script>\n",
              "      const buttonEl =\n",
              "        document.querySelector('#df-792221db-ff9a-46a6-8665-30b663c2d72a button.colab-df-convert');\n",
              "      buttonEl.style.display =\n",
              "        google.colab.kernel.accessAllowed ? 'block' : 'none';\n",
              "\n",
              "      async function convertToInteractive(key) {\n",
              "        const element = document.querySelector('#df-792221db-ff9a-46a6-8665-30b663c2d72a');\n",
              "        const dataTable =\n",
              "          await google.colab.kernel.invokeFunction('convertToInteractive',\n",
              "                                                    [key], {});\n",
              "        if (!dataTable) return;\n",
              "\n",
              "        const docLinkHtml = 'Like what you see? Visit the ' +\n",
              "          '<a target=\"_blank\" href=https://colab.research.google.com/notebooks/data_table.ipynb>data table notebook</a>'\n",
              "          + ' to learn more about interactive tables.';\n",
              "        element.innerHTML = '';\n",
              "        dataTable['output_type'] = 'display_data';\n",
              "        await google.colab.output.renderOutput(dataTable, element);\n",
              "        const docLink = document.createElement('div');\n",
              "        docLink.innerHTML = docLinkHtml;\n",
              "        element.appendChild(docLink);\n",
              "      }\n",
              "    </script>\n",
              "  </div>\n",
              "\n",
              "\n",
              "<div id=\"df-2d9d4a0c-038e-4344-ab19-b6e34326ceb6\">\n",
              "  <button class=\"colab-df-quickchart\" onclick=\"quickchart('df-2d9d4a0c-038e-4344-ab19-b6e34326ceb6')\"\n",
              "            title=\"Suggest charts.\"\n",
              "            style=\"display:none;\">\n",
              "\n",
              "<svg xmlns=\"http://www.w3.org/2000/svg\" height=\"24px\"viewBox=\"0 0 24 24\"\n",
              "     width=\"24px\">\n",
              "    <g>\n",
              "        <path d=\"M19 3H5c-1.1 0-2 .9-2 2v14c0 1.1.9 2 2 2h14c1.1 0 2-.9 2-2V5c0-1.1-.9-2-2-2zM9 17H7v-7h2v7zm4 0h-2V7h2v10zm4 0h-2v-4h2v4z\"/>\n",
              "    </g>\n",
              "</svg>\n",
              "  </button>\n",
              "\n",
              "<style>\n",
              "  .colab-df-quickchart {\n",
              "      --bg-color: #E8F0FE;\n",
              "      --fill-color: #1967D2;\n",
              "      --hover-bg-color: #E2EBFA;\n",
              "      --hover-fill-color: #174EA6;\n",
              "      --disabled-fill-color: #AAA;\n",
              "      --disabled-bg-color: #DDD;\n",
              "  }\n",
              "\n",
              "  [theme=dark] .colab-df-quickchart {\n",
              "      --bg-color: #3B4455;\n",
              "      --fill-color: #D2E3FC;\n",
              "      --hover-bg-color: #434B5C;\n",
              "      --hover-fill-color: #FFFFFF;\n",
              "      --disabled-bg-color: #3B4455;\n",
              "      --disabled-fill-color: #666;\n",
              "  }\n",
              "\n",
              "  .colab-df-quickchart {\n",
              "    background-color: var(--bg-color);\n",
              "    border: none;\n",
              "    border-radius: 50%;\n",
              "    cursor: pointer;\n",
              "    display: none;\n",
              "    fill: var(--fill-color);\n",
              "    height: 32px;\n",
              "    padding: 0;\n",
              "    width: 32px;\n",
              "  }\n",
              "\n",
              "  .colab-df-quickchart:hover {\n",
              "    background-color: var(--hover-bg-color);\n",
              "    box-shadow: 0 1px 2px rgba(60, 64, 67, 0.3), 0 1px 3px 1px rgba(60, 64, 67, 0.15);\n",
              "    fill: var(--button-hover-fill-color);\n",
              "  }\n",
              "\n",
              "  .colab-df-quickchart-complete:disabled,\n",
              "  .colab-df-quickchart-complete:disabled:hover {\n",
              "    background-color: var(--disabled-bg-color);\n",
              "    fill: var(--disabled-fill-color);\n",
              "    box-shadow: none;\n",
              "  }\n",
              "\n",
              "  .colab-df-spinner {\n",
              "    border: 2px solid var(--fill-color);\n",
              "    border-color: transparent;\n",
              "    border-bottom-color: var(--fill-color);\n",
              "    animation:\n",
              "      spin 1s steps(1) infinite;\n",
              "  }\n",
              "\n",
              "  @keyframes spin {\n",
              "    0% {\n",
              "      border-color: transparent;\n",
              "      border-bottom-color: var(--fill-color);\n",
              "      border-left-color: var(--fill-color);\n",
              "    }\n",
              "    20% {\n",
              "      border-color: transparent;\n",
              "      border-left-color: var(--fill-color);\n",
              "      border-top-color: var(--fill-color);\n",
              "    }\n",
              "    30% {\n",
              "      border-color: transparent;\n",
              "      border-left-color: var(--fill-color);\n",
              "      border-top-color: var(--fill-color);\n",
              "      border-right-color: var(--fill-color);\n",
              "    }\n",
              "    40% {\n",
              "      border-color: transparent;\n",
              "      border-right-color: var(--fill-color);\n",
              "      border-top-color: var(--fill-color);\n",
              "    }\n",
              "    60% {\n",
              "      border-color: transparent;\n",
              "      border-right-color: var(--fill-color);\n",
              "    }\n",
              "    80% {\n",
              "      border-color: transparent;\n",
              "      border-right-color: var(--fill-color);\n",
              "      border-bottom-color: var(--fill-color);\n",
              "    }\n",
              "    90% {\n",
              "      border-color: transparent;\n",
              "      border-bottom-color: var(--fill-color);\n",
              "    }\n",
              "  }\n",
              "</style>\n",
              "\n",
              "  <script>\n",
              "    async function quickchart(key) {\n",
              "      const quickchartButtonEl =\n",
              "        document.querySelector('#' + key + ' button');\n",
              "      quickchartButtonEl.disabled = true;  // To prevent multiple clicks.\n",
              "      quickchartButtonEl.classList.add('colab-df-spinner');\n",
              "      try {\n",
              "        const charts = await google.colab.kernel.invokeFunction(\n",
              "            'suggestCharts', [key], {});\n",
              "      } catch (error) {\n",
              "        console.error('Error during call to suggestCharts:', error);\n",
              "      }\n",
              "      quickchartButtonEl.classList.remove('colab-df-spinner');\n",
              "      quickchartButtonEl.classList.add('colab-df-quickchart-complete');\n",
              "    }\n",
              "    (() => {\n",
              "      let quickchartButtonEl =\n",
              "        document.querySelector('#df-2d9d4a0c-038e-4344-ab19-b6e34326ceb6 button');\n",
              "      quickchartButtonEl.style.display =\n",
              "        google.colab.kernel.accessAllowed ? 'block' : 'none';\n",
              "    })();\n",
              "  </script>\n",
              "</div>\n",
              "    </div>\n",
              "  </div>\n"
            ]
          },
          "metadata": {},
          "execution_count": 19
        }
      ],
      "source": [
        "states_edu = pd.read_csv(\"/content/states_edu.csv\")\n",
        "\n",
        "states_edu.head()"
      ]
    },
    {
      "cell_type": "markdown",
      "metadata": {
        "id": "ztDZHO_PSHDt"
      },
      "source": [
        "You should always familiarize yourself with what each column in the dataframe represents. Read about the states_edu dataset here: https://www.kaggle.com/noriuk/us-education-datasets-unification-project"
      ]
    },
    {
      "cell_type": "markdown",
      "metadata": {
        "id": "VgiZi6bySHDu"
      },
      "source": [
        "Use this space to rename columns, deal with missing data, etc. _(optional)_"
      ]
    },
    {
      "cell_type": "code",
      "execution_count": 63,
      "metadata": {
        "colab": {
          "base_uri": "https://localhost:8080/",
          "height": 439
        },
        "id": "yqT2HMTjSHDu",
        "outputId": "82729890-f62d-4557-f6c6-2ede32cee541"
      },
      "outputs": [
        {
          "output_type": "execute_result",
          "data": {
            "text/plain": [
              "             PRIMARY_KEY          STATE  YEAR  ENROLL_ALL_EST  TOTAL_REVENUE  \\\n",
              "561         2003_ALABAMA        ALABAMA  2003        727900.0      5196054.0   \n",
              "562          2003_ALASKA         ALASKA  2003        133303.0      1425948.0   \n",
              "563         2003_ARIZONA        ARIZONA  2003        875111.0      6529894.0   \n",
              "564        2003_ARKANSAS       ARKANSAS  2003        450158.0      3241275.0   \n",
              "565      2003_CALIFORNIA     CALIFORNIA  2003       6226552.0     59815855.0   \n",
              "...                  ...            ...   ...             ...            ...   \n",
              "1219       2015_VIRGINIA       VIRGINIA  2015       1279867.0     15857524.0   \n",
              "1220     2015_WASHINGTON     WASHINGTON  2015       1072359.0     13709442.0   \n",
              "1221  2015_WEST_VIRGINIA  WEST_VIRGINIA  2015        279565.0      3478401.0   \n",
              "1222      2015_WISCONSIN      WISCONSIN  2015        861813.0     11637376.0   \n",
              "1223        2015_WYOMING        WYOMING  2015         93867.0      1962874.0   \n",
              "\n",
              "      FEDERAL_REVENUE  STATE_REVENUE  LOCAL_REVENUE  TOTAL_EXPENDITURE  \\\n",
              "561          567704.0      2966981.0      1661369.0          5298932.0   \n",
              "562          259423.0       813371.0       353154.0          1610289.0   \n",
              "563          740579.0      2912629.0      2876686.0          6210287.0   \n",
              "564          379947.0      2394336.0       466992.0          3242799.0   \n",
              "565         5795655.0     33617766.0     20402434.0         59749885.0   \n",
              "...               ...            ...            ...                ...   \n",
              "1219        1012205.0      6240349.0      8604970.0         16113212.0   \n",
              "1220        1036422.0      8293812.0      4379208.0         13630138.0   \n",
              "1221         362959.0      1979466.0      1135976.0          3466981.0   \n",
              "1222         814385.0      5869265.0      4953726.0         11553677.0   \n",
              "1223         120290.0      1116917.0       725667.0          1942406.0   \n",
              "\n",
              "      INSTRUCTION_EXPENDITURE  ...  ENROLL_8  ENROLL_12  ENROLL_PRIMARY  \\\n",
              "561                 2817111.0  ...   59663.0    42005.0        466920.0   \n",
              "562                  763525.0  ...   11140.0     8651.0         82337.0   \n",
              "563                 2810907.0  ...   76376.0    68815.0        613442.0   \n",
              "564                 1768713.0  ...   37004.0    28840.0        281834.0   \n",
              "565                29561563.0  ...  500143.0   395194.0       3929869.0   \n",
              "...                       ...  ...       ...        ...             ...   \n",
              "1219                8755896.0  ...   95221.0    90391.0        772414.0   \n",
              "1220                6508964.0  ...   79483.0    89258.0        656797.0   \n",
              "1221                1819903.0  ...   20426.0    18432.0        162070.0   \n",
              "1222                5723474.0  ...   61084.0    66253.0        489919.0   \n",
              "1223                 895910.0  ...    6902.0     6299.0         59453.0   \n",
              "\n",
              "      ENROLL_HS  ENROLL_ALL  AVG_MATH_4_SCORE  AVG_MATH_8_SCORE  \\\n",
              "561    205907.0    731220.0             223.0             262.0   \n",
              "562     40238.0    133933.0             233.0             279.0   \n",
              "563    307272.0   1012068.0             229.0             271.0   \n",
              "564    132712.0    454523.0             229.0             266.0   \n",
              "565   1854518.0   6413867.0             227.0             267.0   \n",
              "...         ...         ...               ...               ...   \n",
              "1219   386781.0   1283590.0             247.0             288.0   \n",
              "1220   336808.0   1087030.0             245.0             287.0   \n",
              "1221    80142.0    277452.0             235.0             271.0   \n",
              "1222   263896.0    867800.0             243.0             289.0   \n",
              "1223    26914.0     94717.0             247.0             287.0   \n",
              "\n",
              "      AVG_READING_4_SCORE  AVG_READING_8_SCORE  \\\n",
              "561                 207.0                253.0   \n",
              "562                 212.0                256.0   \n",
              "563                 209.0                255.0   \n",
              "564                 214.0                258.0   \n",
              "565                 206.0                251.0   \n",
              "...                   ...                  ...   \n",
              "1219                229.0                267.0   \n",
              "1220                226.0                267.0   \n",
              "1221                216.0                260.0   \n",
              "1222                223.0                270.0   \n",
              "1223                228.0                269.0   \n",
              "\n",
              "      SUPPORT_SERVICES_EXPENDITURE_PER_STUDENT  \n",
              "561                                   2.080717  \n",
              "562                                   3.838128  \n",
              "563                                   1.940807  \n",
              "564                                   2.139821  \n",
              "565                                   2.655237  \n",
              "...                                        ...  \n",
              "1219                                  3.954151  \n",
              "1220                                  4.149538  \n",
              "1221                                  4.187910  \n",
              "1222                                  4.254216  \n",
              "1223                                  5.970301  \n",
              "\n",
              "[355 rows x 26 columns]"
            ],
            "text/html": [
              "\n",
              "  <div id=\"df-a2b71d69-9660-4d2f-937a-ef795e9c106f\" class=\"colab-df-container\">\n",
              "    <div>\n",
              "<style scoped>\n",
              "    .dataframe tbody tr th:only-of-type {\n",
              "        vertical-align: middle;\n",
              "    }\n",
              "\n",
              "    .dataframe tbody tr th {\n",
              "        vertical-align: top;\n",
              "    }\n",
              "\n",
              "    .dataframe thead th {\n",
              "        text-align: right;\n",
              "    }\n",
              "</style>\n",
              "<table border=\"1\" class=\"dataframe\">\n",
              "  <thead>\n",
              "    <tr style=\"text-align: right;\">\n",
              "      <th></th>\n",
              "      <th>PRIMARY_KEY</th>\n",
              "      <th>STATE</th>\n",
              "      <th>YEAR</th>\n",
              "      <th>ENROLL_ALL_EST</th>\n",
              "      <th>TOTAL_REVENUE</th>\n",
              "      <th>FEDERAL_REVENUE</th>\n",
              "      <th>STATE_REVENUE</th>\n",
              "      <th>LOCAL_REVENUE</th>\n",
              "      <th>TOTAL_EXPENDITURE</th>\n",
              "      <th>INSTRUCTION_EXPENDITURE</th>\n",
              "      <th>...</th>\n",
              "      <th>ENROLL_8</th>\n",
              "      <th>ENROLL_12</th>\n",
              "      <th>ENROLL_PRIMARY</th>\n",
              "      <th>ENROLL_HS</th>\n",
              "      <th>ENROLL_ALL</th>\n",
              "      <th>AVG_MATH_4_SCORE</th>\n",
              "      <th>AVG_MATH_8_SCORE</th>\n",
              "      <th>AVG_READING_4_SCORE</th>\n",
              "      <th>AVG_READING_8_SCORE</th>\n",
              "      <th>SUPPORT_SERVICES_EXPENDITURE_PER_STUDENT</th>\n",
              "    </tr>\n",
              "  </thead>\n",
              "  <tbody>\n",
              "    <tr>\n",
              "      <th>561</th>\n",
              "      <td>2003_ALABAMA</td>\n",
              "      <td>ALABAMA</td>\n",
              "      <td>2003</td>\n",
              "      <td>727900.0</td>\n",
              "      <td>5196054.0</td>\n",
              "      <td>567704.0</td>\n",
              "      <td>2966981.0</td>\n",
              "      <td>1661369.0</td>\n",
              "      <td>5298932.0</td>\n",
              "      <td>2817111.0</td>\n",
              "      <td>...</td>\n",
              "      <td>59663.0</td>\n",
              "      <td>42005.0</td>\n",
              "      <td>466920.0</td>\n",
              "      <td>205907.0</td>\n",
              "      <td>731220.0</td>\n",
              "      <td>223.0</td>\n",
              "      <td>262.0</td>\n",
              "      <td>207.0</td>\n",
              "      <td>253.0</td>\n",
              "      <td>2.080717</td>\n",
              "    </tr>\n",
              "    <tr>\n",
              "      <th>562</th>\n",
              "      <td>2003_ALASKA</td>\n",
              "      <td>ALASKA</td>\n",
              "      <td>2003</td>\n",
              "      <td>133303.0</td>\n",
              "      <td>1425948.0</td>\n",
              "      <td>259423.0</td>\n",
              "      <td>813371.0</td>\n",
              "      <td>353154.0</td>\n",
              "      <td>1610289.0</td>\n",
              "      <td>763525.0</td>\n",
              "      <td>...</td>\n",
              "      <td>11140.0</td>\n",
              "      <td>8651.0</td>\n",
              "      <td>82337.0</td>\n",
              "      <td>40238.0</td>\n",
              "      <td>133933.0</td>\n",
              "      <td>233.0</td>\n",
              "      <td>279.0</td>\n",
              "      <td>212.0</td>\n",
              "      <td>256.0</td>\n",
              "      <td>3.838128</td>\n",
              "    </tr>\n",
              "    <tr>\n",
              "      <th>563</th>\n",
              "      <td>2003_ARIZONA</td>\n",
              "      <td>ARIZONA</td>\n",
              "      <td>2003</td>\n",
              "      <td>875111.0</td>\n",
              "      <td>6529894.0</td>\n",
              "      <td>740579.0</td>\n",
              "      <td>2912629.0</td>\n",
              "      <td>2876686.0</td>\n",
              "      <td>6210287.0</td>\n",
              "      <td>2810907.0</td>\n",
              "      <td>...</td>\n",
              "      <td>76376.0</td>\n",
              "      <td>68815.0</td>\n",
              "      <td>613442.0</td>\n",
              "      <td>307272.0</td>\n",
              "      <td>1012068.0</td>\n",
              "      <td>229.0</td>\n",
              "      <td>271.0</td>\n",
              "      <td>209.0</td>\n",
              "      <td>255.0</td>\n",
              "      <td>1.940807</td>\n",
              "    </tr>\n",
              "    <tr>\n",
              "      <th>564</th>\n",
              "      <td>2003_ARKANSAS</td>\n",
              "      <td>ARKANSAS</td>\n",
              "      <td>2003</td>\n",
              "      <td>450158.0</td>\n",
              "      <td>3241275.0</td>\n",
              "      <td>379947.0</td>\n",
              "      <td>2394336.0</td>\n",
              "      <td>466992.0</td>\n",
              "      <td>3242799.0</td>\n",
              "      <td>1768713.0</td>\n",
              "      <td>...</td>\n",
              "      <td>37004.0</td>\n",
              "      <td>28840.0</td>\n",
              "      <td>281834.0</td>\n",
              "      <td>132712.0</td>\n",
              "      <td>454523.0</td>\n",
              "      <td>229.0</td>\n",
              "      <td>266.0</td>\n",
              "      <td>214.0</td>\n",
              "      <td>258.0</td>\n",
              "      <td>2.139821</td>\n",
              "    </tr>\n",
              "    <tr>\n",
              "      <th>565</th>\n",
              "      <td>2003_CALIFORNIA</td>\n",
              "      <td>CALIFORNIA</td>\n",
              "      <td>2003</td>\n",
              "      <td>6226552.0</td>\n",
              "      <td>59815855.0</td>\n",
              "      <td>5795655.0</td>\n",
              "      <td>33617766.0</td>\n",
              "      <td>20402434.0</td>\n",
              "      <td>59749885.0</td>\n",
              "      <td>29561563.0</td>\n",
              "      <td>...</td>\n",
              "      <td>500143.0</td>\n",
              "      <td>395194.0</td>\n",
              "      <td>3929869.0</td>\n",
              "      <td>1854518.0</td>\n",
              "      <td>6413867.0</td>\n",
              "      <td>227.0</td>\n",
              "      <td>267.0</td>\n",
              "      <td>206.0</td>\n",
              "      <td>251.0</td>\n",
              "      <td>2.655237</td>\n",
              "    </tr>\n",
              "    <tr>\n",
              "      <th>...</th>\n",
              "      <td>...</td>\n",
              "      <td>...</td>\n",
              "      <td>...</td>\n",
              "      <td>...</td>\n",
              "      <td>...</td>\n",
              "      <td>...</td>\n",
              "      <td>...</td>\n",
              "      <td>...</td>\n",
              "      <td>...</td>\n",
              "      <td>...</td>\n",
              "      <td>...</td>\n",
              "      <td>...</td>\n",
              "      <td>...</td>\n",
              "      <td>...</td>\n",
              "      <td>...</td>\n",
              "      <td>...</td>\n",
              "      <td>...</td>\n",
              "      <td>...</td>\n",
              "      <td>...</td>\n",
              "      <td>...</td>\n",
              "      <td>...</td>\n",
              "    </tr>\n",
              "    <tr>\n",
              "      <th>1219</th>\n",
              "      <td>2015_VIRGINIA</td>\n",
              "      <td>VIRGINIA</td>\n",
              "      <td>2015</td>\n",
              "      <td>1279867.0</td>\n",
              "      <td>15857524.0</td>\n",
              "      <td>1012205.0</td>\n",
              "      <td>6240349.0</td>\n",
              "      <td>8604970.0</td>\n",
              "      <td>16113212.0</td>\n",
              "      <td>8755896.0</td>\n",
              "      <td>...</td>\n",
              "      <td>95221.0</td>\n",
              "      <td>90391.0</td>\n",
              "      <td>772414.0</td>\n",
              "      <td>386781.0</td>\n",
              "      <td>1283590.0</td>\n",
              "      <td>247.0</td>\n",
              "      <td>288.0</td>\n",
              "      <td>229.0</td>\n",
              "      <td>267.0</td>\n",
              "      <td>3.954151</td>\n",
              "    </tr>\n",
              "    <tr>\n",
              "      <th>1220</th>\n",
              "      <td>2015_WASHINGTON</td>\n",
              "      <td>WASHINGTON</td>\n",
              "      <td>2015</td>\n",
              "      <td>1072359.0</td>\n",
              "      <td>13709442.0</td>\n",
              "      <td>1036422.0</td>\n",
              "      <td>8293812.0</td>\n",
              "      <td>4379208.0</td>\n",
              "      <td>13630138.0</td>\n",
              "      <td>6508964.0</td>\n",
              "      <td>...</td>\n",
              "      <td>79483.0</td>\n",
              "      <td>89258.0</td>\n",
              "      <td>656797.0</td>\n",
              "      <td>336808.0</td>\n",
              "      <td>1087030.0</td>\n",
              "      <td>245.0</td>\n",
              "      <td>287.0</td>\n",
              "      <td>226.0</td>\n",
              "      <td>267.0</td>\n",
              "      <td>4.149538</td>\n",
              "    </tr>\n",
              "    <tr>\n",
              "      <th>1221</th>\n",
              "      <td>2015_WEST_VIRGINIA</td>\n",
              "      <td>WEST_VIRGINIA</td>\n",
              "      <td>2015</td>\n",
              "      <td>279565.0</td>\n",
              "      <td>3478401.0</td>\n",
              "      <td>362959.0</td>\n",
              "      <td>1979466.0</td>\n",
              "      <td>1135976.0</td>\n",
              "      <td>3466981.0</td>\n",
              "      <td>1819903.0</td>\n",
              "      <td>...</td>\n",
              "      <td>20426.0</td>\n",
              "      <td>18432.0</td>\n",
              "      <td>162070.0</td>\n",
              "      <td>80142.0</td>\n",
              "      <td>277452.0</td>\n",
              "      <td>235.0</td>\n",
              "      <td>271.0</td>\n",
              "      <td>216.0</td>\n",
              "      <td>260.0</td>\n",
              "      <td>4.187910</td>\n",
              "    </tr>\n",
              "    <tr>\n",
              "      <th>1222</th>\n",
              "      <td>2015_WISCONSIN</td>\n",
              "      <td>WISCONSIN</td>\n",
              "      <td>2015</td>\n",
              "      <td>861813.0</td>\n",
              "      <td>11637376.0</td>\n",
              "      <td>814385.0</td>\n",
              "      <td>5869265.0</td>\n",
              "      <td>4953726.0</td>\n",
              "      <td>11553677.0</td>\n",
              "      <td>5723474.0</td>\n",
              "      <td>...</td>\n",
              "      <td>61084.0</td>\n",
              "      <td>66253.0</td>\n",
              "      <td>489919.0</td>\n",
              "      <td>263896.0</td>\n",
              "      <td>867800.0</td>\n",
              "      <td>243.0</td>\n",
              "      <td>289.0</td>\n",
              "      <td>223.0</td>\n",
              "      <td>270.0</td>\n",
              "      <td>4.254216</td>\n",
              "    </tr>\n",
              "    <tr>\n",
              "      <th>1223</th>\n",
              "      <td>2015_WYOMING</td>\n",
              "      <td>WYOMING</td>\n",
              "      <td>2015</td>\n",
              "      <td>93867.0</td>\n",
              "      <td>1962874.0</td>\n",
              "      <td>120290.0</td>\n",
              "      <td>1116917.0</td>\n",
              "      <td>725667.0</td>\n",
              "      <td>1942406.0</td>\n",
              "      <td>895910.0</td>\n",
              "      <td>...</td>\n",
              "      <td>6902.0</td>\n",
              "      <td>6299.0</td>\n",
              "      <td>59453.0</td>\n",
              "      <td>26914.0</td>\n",
              "      <td>94717.0</td>\n",
              "      <td>247.0</td>\n",
              "      <td>287.0</td>\n",
              "      <td>228.0</td>\n",
              "      <td>269.0</td>\n",
              "      <td>5.970301</td>\n",
              "    </tr>\n",
              "  </tbody>\n",
              "</table>\n",
              "<p>355 rows × 26 columns</p>\n",
              "</div>\n",
              "    <div class=\"colab-df-buttons\">\n",
              "\n",
              "  <div class=\"colab-df-container\">\n",
              "    <button class=\"colab-df-convert\" onclick=\"convertToInteractive('df-a2b71d69-9660-4d2f-937a-ef795e9c106f')\"\n",
              "            title=\"Convert this dataframe to an interactive table.\"\n",
              "            style=\"display:none;\">\n",
              "\n",
              "  <svg xmlns=\"http://www.w3.org/2000/svg\" height=\"24px\" viewBox=\"0 -960 960 960\">\n",
              "    <path d=\"M120-120v-720h720v720H120Zm60-500h600v-160H180v160Zm220 220h160v-160H400v160Zm0 220h160v-160H400v160ZM180-400h160v-160H180v160Zm440 0h160v-160H620v160ZM180-180h160v-160H180v160Zm440 0h160v-160H620v160Z\"/>\n",
              "  </svg>\n",
              "    </button>\n",
              "\n",
              "  <style>\n",
              "    .colab-df-container {\n",
              "      display:flex;\n",
              "      gap: 12px;\n",
              "    }\n",
              "\n",
              "    .colab-df-convert {\n",
              "      background-color: #E8F0FE;\n",
              "      border: none;\n",
              "      border-radius: 50%;\n",
              "      cursor: pointer;\n",
              "      display: none;\n",
              "      fill: #1967D2;\n",
              "      height: 32px;\n",
              "      padding: 0 0 0 0;\n",
              "      width: 32px;\n",
              "    }\n",
              "\n",
              "    .colab-df-convert:hover {\n",
              "      background-color: #E2EBFA;\n",
              "      box-shadow: 0px 1px 2px rgba(60, 64, 67, 0.3), 0px 1px 3px 1px rgba(60, 64, 67, 0.15);\n",
              "      fill: #174EA6;\n",
              "    }\n",
              "\n",
              "    .colab-df-buttons div {\n",
              "      margin-bottom: 4px;\n",
              "    }\n",
              "\n",
              "    [theme=dark] .colab-df-convert {\n",
              "      background-color: #3B4455;\n",
              "      fill: #D2E3FC;\n",
              "    }\n",
              "\n",
              "    [theme=dark] .colab-df-convert:hover {\n",
              "      background-color: #434B5C;\n",
              "      box-shadow: 0px 1px 3px 1px rgba(0, 0, 0, 0.15);\n",
              "      filter: drop-shadow(0px 1px 2px rgba(0, 0, 0, 0.3));\n",
              "      fill: #FFFFFF;\n",
              "    }\n",
              "  </style>\n",
              "\n",
              "    <script>\n",
              "      const buttonEl =\n",
              "        document.querySelector('#df-a2b71d69-9660-4d2f-937a-ef795e9c106f button.colab-df-convert');\n",
              "      buttonEl.style.display =\n",
              "        google.colab.kernel.accessAllowed ? 'block' : 'none';\n",
              "\n",
              "      async function convertToInteractive(key) {\n",
              "        const element = document.querySelector('#df-a2b71d69-9660-4d2f-937a-ef795e9c106f');\n",
              "        const dataTable =\n",
              "          await google.colab.kernel.invokeFunction('convertToInteractive',\n",
              "                                                    [key], {});\n",
              "        if (!dataTable) return;\n",
              "\n",
              "        const docLinkHtml = 'Like what you see? Visit the ' +\n",
              "          '<a target=\"_blank\" href=https://colab.research.google.com/notebooks/data_table.ipynb>data table notebook</a>'\n",
              "          + ' to learn more about interactive tables.';\n",
              "        element.innerHTML = '';\n",
              "        dataTable['output_type'] = 'display_data';\n",
              "        await google.colab.output.renderOutput(dataTable, element);\n",
              "        const docLink = document.createElement('div');\n",
              "        docLink.innerHTML = docLinkHtml;\n",
              "        element.appendChild(docLink);\n",
              "      }\n",
              "    </script>\n",
              "  </div>\n",
              "\n",
              "\n",
              "<div id=\"df-213d9ec5-ad1c-41d2-a7c0-f761b372ba3e\">\n",
              "  <button class=\"colab-df-quickchart\" onclick=\"quickchart('df-213d9ec5-ad1c-41d2-a7c0-f761b372ba3e')\"\n",
              "            title=\"Suggest charts.\"\n",
              "            style=\"display:none;\">\n",
              "\n",
              "<svg xmlns=\"http://www.w3.org/2000/svg\" height=\"24px\"viewBox=\"0 0 24 24\"\n",
              "     width=\"24px\">\n",
              "    <g>\n",
              "        <path d=\"M19 3H5c-1.1 0-2 .9-2 2v14c0 1.1.9 2 2 2h14c1.1 0 2-.9 2-2V5c0-1.1-.9-2-2-2zM9 17H7v-7h2v7zm4 0h-2V7h2v10zm4 0h-2v-4h2v4z\"/>\n",
              "    </g>\n",
              "</svg>\n",
              "  </button>\n",
              "\n",
              "<style>\n",
              "  .colab-df-quickchart {\n",
              "      --bg-color: #E8F0FE;\n",
              "      --fill-color: #1967D2;\n",
              "      --hover-bg-color: #E2EBFA;\n",
              "      --hover-fill-color: #174EA6;\n",
              "      --disabled-fill-color: #AAA;\n",
              "      --disabled-bg-color: #DDD;\n",
              "  }\n",
              "\n",
              "  [theme=dark] .colab-df-quickchart {\n",
              "      --bg-color: #3B4455;\n",
              "      --fill-color: #D2E3FC;\n",
              "      --hover-bg-color: #434B5C;\n",
              "      --hover-fill-color: #FFFFFF;\n",
              "      --disabled-bg-color: #3B4455;\n",
              "      --disabled-fill-color: #666;\n",
              "  }\n",
              "\n",
              "  .colab-df-quickchart {\n",
              "    background-color: var(--bg-color);\n",
              "    border: none;\n",
              "    border-radius: 50%;\n",
              "    cursor: pointer;\n",
              "    display: none;\n",
              "    fill: var(--fill-color);\n",
              "    height: 32px;\n",
              "    padding: 0;\n",
              "    width: 32px;\n",
              "  }\n",
              "\n",
              "  .colab-df-quickchart:hover {\n",
              "    background-color: var(--hover-bg-color);\n",
              "    box-shadow: 0 1px 2px rgba(60, 64, 67, 0.3), 0 1px 3px 1px rgba(60, 64, 67, 0.15);\n",
              "    fill: var(--button-hover-fill-color);\n",
              "  }\n",
              "\n",
              "  .colab-df-quickchart-complete:disabled,\n",
              "  .colab-df-quickchart-complete:disabled:hover {\n",
              "    background-color: var(--disabled-bg-color);\n",
              "    fill: var(--disabled-fill-color);\n",
              "    box-shadow: none;\n",
              "  }\n",
              "\n",
              "  .colab-df-spinner {\n",
              "    border: 2px solid var(--fill-color);\n",
              "    border-color: transparent;\n",
              "    border-bottom-color: var(--fill-color);\n",
              "    animation:\n",
              "      spin 1s steps(1) infinite;\n",
              "  }\n",
              "\n",
              "  @keyframes spin {\n",
              "    0% {\n",
              "      border-color: transparent;\n",
              "      border-bottom-color: var(--fill-color);\n",
              "      border-left-color: var(--fill-color);\n",
              "    }\n",
              "    20% {\n",
              "      border-color: transparent;\n",
              "      border-left-color: var(--fill-color);\n",
              "      border-top-color: var(--fill-color);\n",
              "    }\n",
              "    30% {\n",
              "      border-color: transparent;\n",
              "      border-left-color: var(--fill-color);\n",
              "      border-top-color: var(--fill-color);\n",
              "      border-right-color: var(--fill-color);\n",
              "    }\n",
              "    40% {\n",
              "      border-color: transparent;\n",
              "      border-right-color: var(--fill-color);\n",
              "      border-top-color: var(--fill-color);\n",
              "    }\n",
              "    60% {\n",
              "      border-color: transparent;\n",
              "      border-right-color: var(--fill-color);\n",
              "    }\n",
              "    80% {\n",
              "      border-color: transparent;\n",
              "      border-right-color: var(--fill-color);\n",
              "      border-bottom-color: var(--fill-color);\n",
              "    }\n",
              "    90% {\n",
              "      border-color: transparent;\n",
              "      border-bottom-color: var(--fill-color);\n",
              "    }\n",
              "  }\n",
              "</style>\n",
              "\n",
              "  <script>\n",
              "    async function quickchart(key) {\n",
              "      const quickchartButtonEl =\n",
              "        document.querySelector('#' + key + ' button');\n",
              "      quickchartButtonEl.disabled = true;  // To prevent multiple clicks.\n",
              "      quickchartButtonEl.classList.add('colab-df-spinner');\n",
              "      try {\n",
              "        const charts = await google.colab.kernel.invokeFunction(\n",
              "            'suggestCharts', [key], {});\n",
              "      } catch (error) {\n",
              "        console.error('Error during call to suggestCharts:', error);\n",
              "      }\n",
              "      quickchartButtonEl.classList.remove('colab-df-spinner');\n",
              "      quickchartButtonEl.classList.add('colab-df-quickchart-complete');\n",
              "    }\n",
              "    (() => {\n",
              "      let quickchartButtonEl =\n",
              "        document.querySelector('#df-213d9ec5-ad1c-41d2-a7c0-f761b372ba3e button');\n",
              "      quickchartButtonEl.style.display =\n",
              "        google.colab.kernel.accessAllowed ? 'block' : 'none';\n",
              "    })();\n",
              "  </script>\n",
              "</div>\n",
              "    </div>\n",
              "  </div>\n"
            ]
          },
          "metadata": {},
          "execution_count": 63
        }
      ],
      "source": [
        "states_edu.rename({\n",
        "    'GRADES_PK_G':'ENROLL_PREK',\n",
        "    'GRADES_KG_G':'ENROLL_KINDER',\n",
        "    'GRADES_4_G':'ENROLL_4',\n",
        "    'GRADES_8_G':'ENROLL_8',\n",
        "    'GRADES_12_G':'ENROLL_12',\n",
        "    'GRADES_1_8_G':'ENROLL_PRIMARY',\n",
        "    'GRADES_9_12_G':'ENROLL_HS',\n",
        "    'GRADES_ALL_G':'ENROLL_ALL',\n",
        "    'ENROLL':'ENROLL_ALL_EST'\n",
        "    },\n",
        "    axis=1,inplace=True)\n",
        "\n",
        "states_edu.dropna()"
      ]
    },
    {
      "cell_type": "markdown",
      "metadata": {
        "id": "kjoZBFSeSHDu"
      },
      "source": [
        "<h2>Exploratory Data Analysis (EDA) </h2>"
      ]
    },
    {
      "cell_type": "markdown",
      "source": [],
      "metadata": {
        "id": "J_7jzi34yg1W"
      }
    },
    {
      "cell_type": "markdown",
      "metadata": {
        "id": "3G_XnhDLSHDu"
      },
      "source": [
        "Chosen Outcome Variable for Test: Grade 4 Math\n"
      ]
    },
    {
      "cell_type": "markdown",
      "metadata": {
        "id": "zIv0kj9LSHDu"
      },
      "source": [
        "How many years of data are logged in our dataset?"
      ]
    },
    {
      "cell_type": "code",
      "execution_count": 12,
      "metadata": {
        "colab": {
          "base_uri": "https://localhost:8080/"
        },
        "id": "A0EfXfogSHDv",
        "outputId": "a3ce36a8-dc7d-4883-8423-b9fdd4ee6432"
      },
      "outputs": [
        {
          "output_type": "execute_result",
          "data": {
            "text/plain": [
              "33"
            ]
          },
          "metadata": {},
          "execution_count": 12
        }
      ],
      "source": [
        "states_edu[\"YEAR\"].nunique()"
      ]
    },
    {
      "cell_type": "markdown",
      "metadata": {
        "id": "Xs6kMdYSSHDv"
      },
      "source": [
        "Let's compare Michigan to Ohio. Which state has the higher average outcome score across all years?"
      ]
    },
    {
      "cell_type": "code",
      "execution_count": 16,
      "metadata": {
        "colab": {
          "base_uri": "https://localhost:8080/"
        },
        "id": "qZcqi6iYSHDv",
        "outputId": "574fde52-7171-4805-9487-1ce3cf321425"
      },
      "outputs": [
        {
          "output_type": "execute_result",
          "data": {
            "text/plain": [
              "234.36363636363637"
            ]
          },
          "metadata": {},
          "execution_count": 16
        }
      ],
      "source": [
        "michigan = states_edu[states_edu[\"STATE\"] == \"MICHIGAN\"]\n",
        "michigan = michigan[\"AVG_MATH_4_SCORE\"].mean()\n",
        "\n",
        "michigan"
      ]
    },
    {
      "cell_type": "code",
      "source": [
        "ohio = states_edu[states_edu[\"STATE\"] == \"OHIO\"]\n",
        "ohio = ohio[\"AVG_MATH_4_SCORE\"].mean()\n",
        "\n",
        "ohio"
      ],
      "metadata": {
        "colab": {
          "base_uri": "https://localhost:8080/"
        },
        "id": "oJaVv4lgy8fr",
        "outputId": "bb9050bc-c31b-4809-b849-7b75dce936c2"
      },
      "execution_count": 22,
      "outputs": [
        {
          "output_type": "execute_result",
          "data": {
            "text/plain": [
              "239.45454545454547"
            ]
          },
          "metadata": {},
          "execution_count": 22
        }
      ]
    },
    {
      "cell_type": "code",
      "source": [
        "# Ohio has the higher avergae Gr.4 Math score across all years (239.5 > 234.4)."
      ],
      "metadata": {
        "id": "HB6Hbo2azdJi"
      },
      "execution_count": null,
      "outputs": []
    },
    {
      "cell_type": "markdown",
      "metadata": {
        "id": "9hIulqIKSHDv"
      },
      "source": [
        "Find the average for your outcome score across all states in 2019"
      ]
    },
    {
      "cell_type": "code",
      "execution_count": 26,
      "metadata": {
        "colab": {
          "base_uri": "https://localhost:8080/"
        },
        "id": "ERDqxwulSHDv",
        "outputId": "a871ec3c-105c-4875-8067-ca7434038784"
      },
      "outputs": [
        {
          "output_type": "execute_result",
          "data": {
            "text/plain": [
              "239.9433962264151"
            ]
          },
          "metadata": {},
          "execution_count": 26
        }
      ],
      "source": [
        "year_2019 = states_edu[states_edu[\"YEAR\"] == 2019]\n",
        "year_2019 = year_2019[\"AVG_MATH_4_SCORE\"].mean()\n",
        "\n",
        "year_2019"
      ]
    },
    {
      "cell_type": "markdown",
      "metadata": {
        "id": "sjGqZSWgSHDw"
      },
      "source": [
        "Find the maximum outcome score for every state.\n",
        "\n",
        "Refer to the `Grouping and Aggregating` section in Tutorial 0 if you are stuck."
      ]
    },
    {
      "cell_type": "code",
      "execution_count": 27,
      "metadata": {
        "colab": {
          "base_uri": "https://localhost:8080/"
        },
        "id": "1UCvCtSbSHDw",
        "outputId": "3f964987-d827-487e-e562-ef848d0927bd"
      },
      "outputs": [
        {
          "output_type": "execute_result",
          "data": {
            "text/plain": [
              "STATE\n",
              "ALABAMA                 233.0\n",
              "ALASKA                  237.0\n",
              "ARIZONA                 240.0\n",
              "ARKANSAS                240.0\n",
              "CALIFORNIA              235.0\n",
              "COLORADO                247.0\n",
              "CONNECTICUT             245.0\n",
              "DELAWARE                243.0\n",
              "DISTRICT_OF_COLUMBIA    235.0\n",
              "DODEA                   250.0\n",
              "FLORIDA                 246.0\n",
              "GEORGIA                 240.0\n",
              "HAWAII                  243.0\n",
              "IDAHO                   242.0\n",
              "ILLINOIS                239.0\n",
              "INDIANA                 249.0\n",
              "IOWA                    246.0\n",
              "KANSAS                  248.0\n",
              "KENTUCKY                242.0\n",
              "LOUISIANA               234.0\n",
              "MAINE                   246.0\n",
              "MARYLAND                247.0\n",
              "MASSACHUSETTS           253.0\n",
              "MICHIGAN                238.0\n",
              "MINNESOTA               253.0\n",
              "MISSISSIPPI             241.0\n",
              "MISSOURI                241.0\n",
              "MONTANA                 244.0\n",
              "NATIONAL                242.0\n",
              "NEBRASKA                246.0\n",
              "NEVADA                  237.0\n",
              "NEW_HAMPSHIRE           253.0\n",
              "NEW_JERSEY              249.0\n",
              "NEW_MEXICO              233.0\n",
              "NEW_YORK                243.0\n",
              "NORTH_CAROLINA          245.0\n",
              "NORTH_DAKOTA            246.0\n",
              "OHIO                    246.0\n",
              "OKLAHOMA                240.0\n",
              "OREGON                  240.0\n",
              "PENNSYLVANIA            246.0\n",
              "RHODE_ISLAND            242.0\n",
              "SOUTH_CAROLINA          238.0\n",
              "SOUTH_DAKOTA            242.0\n",
              "TENNESSEE               241.0\n",
              "TEXAS                   244.0\n",
              "UTAH                    244.0\n",
              "VERMONT                 248.0\n",
              "VIRGINIA                248.0\n",
              "WASHINGTON              246.0\n",
              "WEST_VIRGINIA           237.0\n",
              "WISCONSIN               245.0\n",
              "WYOMING                 248.0\n",
              "Name: AVG_MATH_4_SCORE, dtype: float64"
            ]
          },
          "metadata": {},
          "execution_count": 27
        }
      ],
      "source": [
        "states_edu.groupby([\"STATE\"])[\"AVG_MATH_4_SCORE\"].max()"
      ]
    },
    {
      "cell_type": "markdown",
      "metadata": {
        "id": "Nxt4nQNoSHDw"
      },
      "source": [
        "<h2> Feature Engineering </h2>\n",
        "\n",
        "After exploring the data, you can choose to modify features that you would use to predict the performance of the students on your chosen response variable.\n",
        "\n",
        "You can also create your own features. For example, perhaps you figured that maybe a state's expenditure per student may affect their overall academic performance so you create a expenditure_per_student feature.\n",
        "\n",
        "Use this space to modify or create features."
      ]
    },
    {
      "cell_type": "code",
      "execution_count": 32,
      "metadata": {
        "id": "esDvZI2BSHDw"
      },
      "outputs": [],
      "source": [
        "states_edu['SUPPORT_SERVICES_EXPENDITURE_PER_STUDENT'] = states_edu['SUPPORT_SERVICES_EXPENDITURE'] / states_edu['ENROLL_ALL']"
      ]
    },
    {
      "cell_type": "markdown",
      "metadata": {
        "id": "ZR6Ce17MSHDw"
      },
      "source": [
        "Feature engineering justification: **<BRIEFLY DESCRIBE WHY YOU MADE THE CHANGES THAT YOU DID\\>**\n",
        "\n",
        "Comparing only the total expenditure may be misleading since states that have larger populations will tend to have higher total expenditure. Instead, examining the expenditure per student in this case may be more\n",
        "representative."
      ]
    },
    {
      "cell_type": "markdown",
      "metadata": {
        "id": "Up6x75-PSHDx"
      },
      "source": [
        "<h2>Visualization</h2>\n",
        "\n",
        "Investigate the relationship between your chosen response variable and at least two predictors using visualizations. Write down your observations.\n",
        "\n",
        "**Visualization 1**"
      ]
    },
    {
      "cell_type": "code",
      "execution_count": 35,
      "metadata": {
        "colab": {
          "base_uri": "https://localhost:8080/",
          "height": 466
        },
        "id": "8_zEGt3kSHDx",
        "outputId": "cf346065-a554-4a4b-af8f-e674494cf811"
      },
      "outputs": [
        {
          "output_type": "execute_result",
          "data": {
            "text/plain": [
              "Text(0, 0.5, '4th Grade Reading Score')"
            ]
          },
          "metadata": {},
          "execution_count": 35
        },
        {
          "output_type": "display_data",
          "data": {
            "text/plain": [
              "<Figure size 640x480 with 1 Axes>"
            ],
            "image/png": "[encoded data removed]"
          },
          "metadata": {}
        }
      ],
      "source": [
        "states_edu.plot.scatter(x = \"SUPPORT_SERVICES_EXPENDITURE_PER_STUDENT\", y = \"AVG_MATH_4_SCORE\", alpha = 0.6)\n",
        "plt.xlabel(\"Support Services Expenditure Per Student\")\n",
        "plt.ylabel(\"4th Grade Math Score\")"
      ]
    },
    {
      "cell_type": "markdown",
      "metadata": {
        "id": "iwHQTLwoSHDx"
      },
      "source": [
        "**<CAPTION FOR VIZ 1>**\n",
        "Support services expenditure per student and 4th grade math score are positively correlated, implying that as the support services expenditure per student increases, the 4th grade math score increases. Therefore, instruction expenditure can be a predictor of 4th grade math score."
      ]
    },
    {
      "cell_type": "markdown",
      "metadata": {
        "id": "Xt5fHCcDSHDy"
      },
      "source": [
        "**Visualization 2**"
      ]
    },
    {
      "cell_type": "code",
      "execution_count": 44,
      "metadata": {
        "colab": {
          "base_uri": "https://localhost:8080/",
          "height": 466
        },
        "id": "AXkNEqBcSHDy",
        "outputId": "dcda13c8-921c-4fbc-a181-ba9ae9926805"
      },
      "outputs": [
        {
          "output_type": "execute_result",
          "data": {
            "text/plain": [
              "Text(0, 0.5, '4th Grade Math Score')"
            ]
          },
          "metadata": {},
          "execution_count": 44
        },
        {
          "output_type": "display_data",
          "data": {
            "text/plain": [
              "<Figure size 640x480 with 1 Axes>"
            ],
            "image/png": "[encoded data removed]"
          },
          "metadata": {}
        }
      ],
      "source": [
        "states_edu.plot.scatter(x = \"AVG_READING_4_SCORE\", y = \"AVG_MATH_4_SCORE\", alpha = 0.6)\n",
        "plt.xlabel(\"4th Grade Reading Score\")\n",
        "plt.ylabel(\"4th Grade Math Score\")"
      ]
    },
    {
      "cell_type": "markdown",
      "metadata": {
        "id": "YDsIgf7mSHDy"
      },
      "source": [
        "**<CAPTION FOR VIZ 2>**\n",
        "4th grade reading score and 4th grade math score have a strong positive correlation, implying that a grade 4 student who has high reading score will tend to have a high math score as well. Therefore, grade 4 reading score can be a predictor of 4th grade math score."
      ]
    },
    {
      "cell_type": "markdown",
      "metadata": {
        "id": "165wSD5xSHDz"
      },
      "source": [
        "<h2> Data Creation </h2>\n",
        "\n",
        "_Use this space to create train/test data_"
      ]
    },
    {
      "cell_type": "code",
      "execution_count": 55,
      "metadata": {
        "id": "EiVnYJexSHDz"
      },
      "outputs": [],
      "source": [
        "from sklearn.model_selection import train_test_split"
      ]
    },
    {
      "cell_type": "code",
      "execution_count": 90,
      "metadata": {
        "id": "ct51fJj5SHD0"
      },
      "outputs": [],
      "source": [
        "X = states_edu[[\"SUPPORT_SERVICES_EXPENDITURE_PER_STUDENT\", \"AVG_READING_4_SCORE\"]].dropna()\n",
        "y = states_edu.loc[X.index][\"AVG_MATH_4_SCORE\"]\n",
        "y.fillna(y.mean(), inplace=True)"
      ]
    },
    {
      "cell_type": "code",
      "execution_count": 91,
      "metadata": {
        "id": "fXTPPT0GSHD0"
      },
      "outputs": [],
      "source": [
        "X_train, X_test, y_train, y_test = train_test_split(X, y, test_size=.3, random_state=42)"
      ]
    },
    {
      "cell_type": "markdown",
      "metadata": {
        "id": "6fWhLbwGSHD0"
      },
      "source": [
        "<h2> Prediction </h2>"
      ]
    },
    {
      "cell_type": "markdown",
      "metadata": {
        "id": "ppDrcgiDSHD1"
      },
      "source": [
        "ML Models [Resource](https://medium.com/@vijaya.beeravalli/comparison-of-machine-learning-classification-models-for-credit-card-default-data-c3cf805c9a5a)"
      ]
    },
    {
      "cell_type": "code",
      "execution_count": 92,
      "metadata": {
        "id": "2qY-LuOwSHD1"
      },
      "outputs": [],
      "source": [
        "# import your sklearn class here\n",
        "from sklearn.linear_model import LinearRegression"
      ]
    },
    {
      "cell_type": "markdown",
      "source": [],
      "metadata": {
        "id": "6ElZkIDV9_ht"
      }
    },
    {
      "cell_type": "code",
      "execution_count": 93,
      "metadata": {
        "id": "7DWXKx-CSHD1"
      },
      "outputs": [],
      "source": [
        "# create your model here\n",
        "model = LinearRegression()"
      ]
    },
    {
      "cell_type": "code",
      "execution_count": 94,
      "metadata": {
        "colab": {
          "base_uri": "https://localhost:8080/",
          "height": 74
        },
        "id": "s4R4EibGSHD2",
        "outputId": "61228194-45b8-4f31-f9bd-9a09a1730144"
      },
      "outputs": [
        {
          "output_type": "execute_result",
          "data": {
            "text/plain": [
              "LinearRegression()"
            ],
            "text/html": [
              "<style>#sk-container-id-2 {color: black;background-color: white;}#sk-container-id-2 pre{padding: 0;}#sk-container-id-2 div.sk-toggleable {background-color: white;}#sk-container-id-2 label.sk-toggleable__label {cursor: pointer;display: block;width: 100%;margin-bottom: 0;padding: 0.3em;box-sizing: border-box;text-align: center;}#sk-container-id-2 label.sk-toggleable__label-arrow:before {content: \"▸\";float: left;margin-right: 0.25em;color: #696969;}#sk-container-id-2 label.sk-toggleable__label-arrow:hover:before {color: black;}#sk-container-id-2 div.sk-estimator:hover label.sk-toggleable__label-arrow:before {color: black;}#sk-container-id-2 div.sk-toggleable__content {max-height: 0;max-width: 0;overflow: hidden;text-align: left;background-color: #f0f8ff;}#sk-container-id-2 div.sk-toggleable__content pre {margin: 0.2em;color: black;border-radius: 0.25em;background-color: #f0f8ff;}#sk-container-id-2 input.sk-toggleable__control:checked~div.sk-toggleable__content {max-height: 200px;max-width: 100%;overflow: auto;}#sk-container-id-2 input.sk-toggleable__control:checked~label.sk-toggleable__label-arrow:before {content: \"▾\";}#sk-container-id-2 div.sk-estimator input.sk-toggleable__control:checked~label.sk-toggleable__label {background-color: #d4ebff;}#sk-container-id-2 div.sk-label input.sk-toggleable__control:checked~label.sk-toggleable__label {background-color: #d4ebff;}#sk-container-id-2 input.sk-hidden--visually {border: 0;clip: rect(1px 1px 1px 1px);clip: rect(1px, 1px, 1px, 1px);height: 1px;margin: -1px;overflow: hidden;padding: 0;position: absolute;width: 1px;}#sk-container-id-2 div.sk-estimator {font-family: monospace;background-color: #f0f8ff;border: 1px dotted black;border-radius: 0.25em;box-sizing: border-box;margin-bottom: 0.5em;}#sk-container-id-2 div.sk-estimator:hover {background-color: #d4ebff;}#sk-container-id-2 div.sk-parallel-item::after {content: \"\";width: 100%;border-bottom: 1px solid gray;flex-grow: 1;}#sk-container-id-2 div.sk-label:hover label.sk-toggleable__label {background-color: #d4ebff;}#sk-container-id-2 div.sk-serial::before {content: \"\";position: absolute;border-left: 1px solid gray;box-sizing: border-box;top: 0;bottom: 0;left: 50%;z-index: 0;}#sk-container-id-2 div.sk-serial {display: flex;flex-direction: column;align-items: center;background-color: white;padding-right: 0.2em;padding-left: 0.2em;position: relative;}#sk-container-id-2 div.sk-item {position: relative;z-index: 1;}#sk-container-id-2 div.sk-parallel {display: flex;align-items: stretch;justify-content: center;background-color: white;position: relative;}#sk-container-id-2 div.sk-item::before, #sk-container-id-2 div.sk-parallel-item::before {content: \"\";position: absolute;border-left: 1px solid gray;box-sizing: border-box;top: 0;bottom: 0;left: 50%;z-index: -1;}#sk-container-id-2 div.sk-parallel-item {display: flex;flex-direction: column;z-index: 1;position: relative;background-color: white;}#sk-container-id-2 div.sk-parallel-item:first-child::after {align-self: flex-end;width: 50%;}#sk-container-id-2 div.sk-parallel-item:last-child::after {align-self: flex-start;width: 50%;}#sk-container-id-2 div.sk-parallel-item:only-child::after {width: 0;}#sk-container-id-2 div.sk-dashed-wrapped {border: 1px dashed gray;margin: 0 0.4em 0.5em 0.4em;box-sizing: border-box;padding-bottom: 0.4em;background-color: white;}#sk-container-id-2 div.sk-label label {font-family: monospace;font-weight: bold;display: inline-block;line-height: 1.2em;}#sk-container-id-2 div.sk-label-container {text-align: center;}#sk-container-id-2 div.sk-container {/* jupyter's `normalize.less` sets `[hidden] { display: none; }` but bootstrap.min.css set `[hidden] { display: none !important; }` so we also need the `!important` here to be able to override the default hidden behavior on the sphinx rendered scikit-learn.org. See: https://github.com/scikit-learn/scikit-learn/issues/21755 */display: inline-block !important;position: relative;}#sk-container-id-2 div.sk-text-repr-fallback {display: none;}</style><div id=\"sk-container-id-2\" class=\"sk-top-container\"><div class=\"sk-text-repr-fallback\"><pre>LinearRegression()</pre><b>In a Jupyter environment, please rerun this cell to show the HTML representation or trust the notebook. <br />On GitHub, the HTML representation is unable to render, please try loading this page with nbviewer.org.</b></div><div class=\"sk-container\" hidden><div class=\"sk-item\"><div class=\"sk-estimator sk-toggleable\"><input class=\"sk-toggleable__control sk-hidden--visually\" id=\"sk-estimator-id-2\" type=\"checkbox\" checked><label for=\"sk-estimator-id-2\" class=\"sk-toggleable__label sk-toggleable__label-arrow\">LinearRegression</label><div class=\"sk-toggleable__content\"><pre>LinearRegression()</pre></div></div></div></div></div>"
            ]
          },
          "metadata": {},
          "execution_count": 94
        }
      ],
      "source": [
        "model.fit(X_train, y_train)"
      ]
    },
    {
      "cell_type": "code",
      "execution_count": 95,
      "metadata": {
        "id": "6gusHrACSHD2"
      },
      "outputs": [],
      "source": [
        "y_pred = model.predict(X_test)"
      ]
    },
    {
      "cell_type": "markdown",
      "metadata": {
        "id": "hhsgyo55SHD3"
      },
      "source": [
        "## Evaluation"
      ]
    },
    {
      "cell_type": "markdown",
      "metadata": {
        "id": "FeD5hsprSHD4"
      },
      "source": [
        "Choose some metrics to evaluate the performance of your model, some of them are mentioned in the tutorial."
      ]
    },
    {
      "cell_type": "code",
      "execution_count": 96,
      "metadata": {
        "colab": {
          "base_uri": "https://localhost:8080/"
        },
        "id": "UbabnIAhSHD4",
        "outputId": "79746e3b-edd5-4d02-86ef-ac99c8aed41f"
      },
      "outputs": [
        {
          "output_type": "execute_result",
          "data": {
            "text/plain": [
              "0.3939566539915781"
            ]
          },
          "metadata": {},
          "execution_count": 96
        }
      ],
      "source": [
        "model.score(X_test, y_test)"
      ]
    },
    {
      "cell_type": "code",
      "source": [
        "np.mean(model.predict(X_test)-y_test)"
      ],
      "metadata": {
        "colab": {
          "base_uri": "https://localhost:8080/"
        },
        "id": "8PowhpRdA5Q_",
        "outputId": "14b2f862-055c-4b62-89ce-a7fdea008cd6"
      },
      "execution_count": 97,
      "outputs": [
        {
          "output_type": "execute_result",
          "data": {
            "text/plain": [
              "0.43081838971908876"
            ]
          },
          "metadata": {},
          "execution_count": 97
        }
      ]
    },
    {
      "cell_type": "code",
      "source": [
        "np.mean(np.abs(model.predict(X_test)-y_test))"
      ],
      "metadata": {
        "colab": {
          "base_uri": "https://localhost:8080/"
        },
        "id": "RykBghLRBAI8",
        "outputId": "fe62d638-bc65-4f76-d707-49b5d24561fe"
      },
      "execution_count": 98,
      "outputs": [
        {
          "output_type": "execute_result",
          "data": {
            "text/plain": [
              "4.659904758194582"
            ]
          },
          "metadata": {},
          "execution_count": 98
        }
      ]
    },
    {
      "cell_type": "markdown",
      "metadata": {
        "id": "zPInjFpTSHD4"
      },
      "source": [
        "We have copied over the graphs that visualize the model's performance on the training and testing set.\n",
        "\n",
        "Change `col_name` and modify the call to `plt.ylabel()` to isolate how a single predictor affects the model."
      ]
    },
    {
      "cell_type": "code",
      "execution_count": 99,
      "metadata": {
        "colab": {
          "base_uri": "https://localhost:8080/",
          "height": 392
        },
        "id": "Ndz787uFSHD5",
        "outputId": "1975b229-551c-4816-af59-586797c64ad2"
      },
      "outputs": [
        {
          "output_type": "execute_result",
          "data": {
            "text/plain": [
              "Text(0.5, 1.0, 'Model Behavior On Training Set')"
            ]
          },
          "metadata": {},
          "execution_count": 99
        },
        {
          "output_type": "display_data",
          "data": {
            "text/plain": [
              "<Figure size 1200x600 with 1 Axes>"
            ],
            "image/png": "[encoded data removed]"
          },
          "metadata": {}
        }
      ],
      "source": [
        "col_name = 'SUPPORT_SERVICES_EXPENDITURE_PER_STUDENT'\n",
        "\n",
        "f = plt.figure(figsize=(12,6))\n",
        "plt.scatter(X_train[col_name], y_train, color = \"red\")\n",
        "plt.scatter(X_train[col_name], model.predict(X_train), color = \"green\")\n",
        "\n",
        "plt.legend(['True Training','Predicted Training'])\n",
        "plt.xlabel(col_name)\n",
        "plt.ylabel('Support Services Expenditure Per Student')\n",
        "plt.title(\"Model Behavior On Training Set\")"
      ]
    },
    {
      "cell_type": "code",
      "execution_count": 100,
      "metadata": {
        "colab": {
          "base_uri": "https://localhost:8080/",
          "height": 392
        },
        "id": "xWBemG7DSHD5",
        "outputId": "0f50a456-ad7b-4b71-8125-99849b82a1d7"
      },
      "outputs": [
        {
          "output_type": "execute_result",
          "data": {
            "text/plain": [
              "Text(0.5, 1.0, 'Model Behavior on Testing Set')"
            ]
          },
          "metadata": {},
          "execution_count": 100
        },
        {
          "output_type": "display_data",
          "data": {
            "text/plain": [
              "<Figure size 1200x600 with 1 Axes>"
            ],
            "image/png": "[encoded data removed]"
          },
          "metadata": {}
        }
      ],
      "source": [
        "col_name = \"SUPPORT_SERVICES_EXPENDITURE_PER_STUDENT\"\n",
        "\n",
        "f = plt.figure(figsize=(12,6))\n",
        "plt.scatter(X_test[col_name], y_test, color = \"blue\")\n",
        "plt.scatter(X_test[col_name], model.predict(X_test), color = \"black\")\n",
        "\n",
        "plt.legend(['True testing','Predicted testing'])\n",
        "plt.xlabel(col_name)\n",
        "plt.ylabel('Support Services Expenditure Per Student')\n",
        "plt.title(\"Model Behavior on Testing Set\")"
      ]
    },
    {
      "cell_type": "markdown",
      "metadata": {
        "id": "3SNer8Q6SHD5"
      },
      "source": [
        "<h2> Summary </h2>"
      ]
    },
    {
      "cell_type": "markdown",
      "metadata": {
        "id": "YjUEkBPgSHD5"
      },
      "source": [
        "**<WRITE A PARAGRAPH SUMMARIZING YOUR WORK, FINDINGS, AND THE PERFORMANCE OF YOUR MODEL\\>**\n",
        "\n",
        "As demonstrated by the consistency of the training graph and the testing graph, the performance of my model is great, providing robust generalization and accuracy. As mentioned previously, there is a positive correlation between support services expenditure and 4th grade math score. Overall, the support services expenditure per student is a reasonably accurate and reliable predictor of 4th grade math score"
      ]
    }
  ],
  "metadata": {
    "kernelspec": {
      "display_name": "Python 3.9.0 64-bit",
      "language": "python",
      "name": "python3"
    },
    "language_info": {
      "codemirror_mode": {
        "name": "ipython",
        "version": 3
      },
      "file_extension": ".py",
      "mimetype": "text/x-python",
      "name": "python",
      "nbconvert_exporter": "python",
      "pygments_lexer": "ipython3",
      "version": "3.9.0"
    },
    "vscode": {
      "interpreter": {
        "hash": "6cf8df3ff69f85f626faf55c10df6fe2cb9d1236b4dc73844ee4dc01369c2c99"
      }
    },
    "colab": {
      "provenance": []
    }
  },
  "nbformat": 4,
  "nbformat_minor": 0
}